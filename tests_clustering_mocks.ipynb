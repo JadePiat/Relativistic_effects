{
 "cells": [
  {
   "cell_type": "code",
   "execution_count": 1,
   "id": "9891ccd9-5b30-4ec6-a0d1-e1dc9758b8cb",
   "metadata": {
    "tags": []
   },
   "outputs": [],
   "source": [
    "import sys\n",
    "sys.path.append('/global/homes/j/jpiat/hodpy/')\n",
    "\n",
    "import numpy as np\n",
    "from astropy.io import fits\n",
    "from astropy.table import Table\n",
    "import matplotlib.pyplot as plt\n",
    "from hodpy.cosmology import CosmologyAbacus\n",
    "from pycorr import TwoPointCorrelationFunction\n",
    "from hodpy.k_correction import GAMA_KCorrection\n",
    "from hodpy import lookup\n",
    "\n",
    "cosmo = CosmologyAbacus(0)  #c000 cosmology\n",
    "kcorr = GAMA_KCorrection(cosmo, k_corr_file=lookup.kcorr_file, cubic_interpolation=True)"
   ]
  },
  {
   "cell_type": "code",
   "execution_count": null,
   "id": "164c84f0-e47f-4472-b141-177c38fa85c4",
   "metadata": {
    "tags": []
   },
   "outputs": [],
   "source": [
    "box_file = '/pscratch/sd/a/amjsmith/AbacusSummit/secondgen_new/z0.200/AbacusSummit_base_c000_ph000/BGS_box_S.fits'\n",
    "box_file_jp = '/pscratch/sd/j/jpiat/Abacus_mocks/z0.200/AbacusSummit_base_c000_ph000/cubic_box/BGS_box_S.fits'\n",
    "\n",
    "box_cat = fits.open(box_file)\n",
    "box = Table(box_cat[1].data)\n",
    "box_cat.close()\n",
    "\n",
    "box_cat = fits.open(box_file_jp)\n",
    "box_jp = Table(box_cat[1].data)\n",
    "box_cat.close()"
   ]
  },
  {
   "cell_type": "code",
   "execution_count": null,
   "id": "c56b1b1c-5538-42b6-8368-c062ec0b1b35",
   "metadata": {
    "tags": []
   },
   "outputs": [],
   "source": [
    "z = 0.2\n",
    "a = 1/(1+z)\n",
    "H = cosmo.H(z)\n",
    "h = cosmo.H(0)/100\n",
    "\n",
    "box['x_rsd'] = box['x'] + box['vx']/(a*H/h)\n",
    "pos = box['x_rsd','y','z']\n",
    "\n",
    "box_jp['x_rsd'] = box_jp['x'] + box_jp['vx']/(a*H/h)\n",
    "pos_jp = box_jp['x_rsd','y','z']"
   ]
  },
  {
   "cell_type": "code",
   "execution_count": null,
   "id": "4164c1dd-50a8-4fdf-87d4-460417651cc5",
   "metadata": {
    "tags": []
   },
   "outputs": [],
   "source": [
    "M = box['R_MAG_ABS']\n",
    "M_jp = box_jp['R_MAG_ABS']\n",
    "\n",
    "\n",
    "print(np.min(M))\n",
    "M_bins = np.arange(-22,-17.5,0.5)"
   ]
  },
  {
   "cell_type": "markdown",
   "id": "1b077534-0eaf-494e-b1eb-a7fc02c94c13",
   "metadata": {},
   "source": [
    "## Test with BGS data"
   ]
  },
  {
   "cell_type": "code",
   "execution_count": null,
   "id": "318952bf-4755-49f4-a0f6-2e552610fbcd",
   "metadata": {
    "tags": []
   },
   "outputs": [],
   "source": [
    "wp_y1 = np.loadtxt('wp_target_y1_pip_ang_wsys_pi80.dat')\n",
    "wp_y1[:,0]\n",
    "\n",
    "\n",
    "for i in range(len(M_bins)):\n",
    "\n",
    "    inside = M<=M_bins[i]\n",
    "    \n",
    "    posM = pos[inside]\n",
    "    pos_arr = np.array([posM['x_rsd'],posM['y'],posM['z']])\n",
    "    \n",
    "    edges = (np.logspace(-2, 2, 51), np.linspace(-80, 80, 161))\n",
    "    result = TwoPointCorrelationFunction('rppi', edges, boxsize=2000, position_type = 'xyz', los='x', data_positions1=pos_arr, engine='corrfunc', nthreads=4)\n",
    "    sep, wp = result(pimax=None, return_sep=True)\n",
    "\n",
    "    ax = plt.gca()\n",
    "    ax.set_xscale('log')\n",
    "    ax.set_title(f'M < {M_bins[i]}')\n",
    "    ax.plot(sep, sep * wp)\n",
    "    ax.plot(wp_y1[:,0], wp_y1[:,0] * wp_y1[:,i+1],'r--')\n",
    "    ax.set_xlabel(r'$r_{p}$')\n",
    "    ax.set_ylabel(r'$r_{p} w_{p}(r_{p})$')\n",
    "    ax.grid(True)"
   ]
  },
  {
   "cell_type": "markdown",
   "id": "3edf4686-9ac5-43aa-b342-5cc2718f3d26",
   "metadata": {
    "tags": []
   },
   "source": [
    "## Test with best-fitting HOD"
   ]
  },
  {
   "cell_type": "code",
   "execution_count": null,
   "id": "3be31b5c-9d60-4e13-b1fb-51bbf12a7aaa",
   "metadata": {},
   "outputs": [],
   "source": [
    "wp_hod = np.loadtxt('diff_start_low_prior_1_CF_wsys.txt')\n",
    "wp_hod[:,0]\n",
    "\n",
    "\n",
    "for i,threshold in enumerate(M_bins):\n",
    "\n",
    "    inside = M<=threshold\n",
    "    \n",
    "    posM = pos[inside]\n",
    "    pos_arr = np.array([posM['x_rsd'],posM['y'],posM['z']])\n",
    "\n",
    "    edges = (np.logspace(-2, 2, 25), np.linspace(-80, 80, 161))\n",
    "    result = TwoPointCorrelationFunction('rppi', edges, boxsize=2000, position_type = 'xyz', los='x', data_positions1=pos_arr, engine='corrfunc', nthreads=4)\n",
    "    sep, wp = result(pimax=None, return_sep=True)\n",
    "\n",
    "    ax = plt.gca()\n",
    "    ax.set_xscale('log')\n",
    "    ax.set_title(f'M < {threshold}')\n",
    "    ax.plot(sep, sep * wp)\n",
    "    ax.plot(wp_hod[:,0], wp_hod[:,0] * wp_hod[:,i+1],'r--')\n",
    "    ax.set_xlabel(r'$r_{p}$')\n",
    "    ax.set_ylabel(r'$r_{p} w_{p}(r_{p})$')\n",
    "    ax.grid(True)\n",
    "    plt.show()\n"
   ]
  },
  {
   "cell_type": "markdown",
   "id": "f78f5617-424d-4b9c-a93a-0f4c79175c8d",
   "metadata": {
    "tags": []
   },
   "source": [
    "## Test with best-fitting HOD for 2 ph000 mocks"
   ]
  },
  {
   "cell_type": "code",
   "execution_count": null,
   "id": "4ca4a429-a482-4233-843f-b00d01c90450",
   "metadata": {},
   "outputs": [],
   "source": [
    "wp_hod = np.loadtxt('diff_start_low_prior_1_CF_wsys.txt')\n",
    "\n",
    "ax = plt.gca()\n",
    "ax.set_xscale('log')\n",
    "ax.set_title(f'M < -20')\n",
    "ax.set_xlabel(r'$r_{p}$')\n",
    "ax.set_ylabel(r'$r_{p} w_{p}(r_{p})$')\n",
    "ax.grid(True)\n",
    "ax.plot(wp_hod[:,0], wp_hod[:,0] * wp_hod[:,5],'r--',label='best-fitting HOD')\n",
    "\n",
    "\n",
    "posM = pos[M<=-20]\n",
    "pos_arr = np.array([posM['x_rsd'],posM['y'],posM['z']])\n",
    "\n",
    "posM_jp = pos_jp[M_jp<=-20]\n",
    "pos_arr_jp = np.array([posM_jp['x_rsd'],posM_jp['y'],posM_jp['z']])\n",
    "\n",
    "edges = (np.logspace(-2, 2, 25), np.linspace(-80, 80, 161))\n",
    "result = TwoPointCorrelationFunction('rppi', edges, boxsize=2000, position_type = 'xyz', los='x', data_positions1=pos_arr, engine='corrfunc', nthreads=4)\n",
    "sep, wp = result(pimax=None, return_sep=True)\n",
    "\n",
    "print(\"Projected correlation function for Alex's mock\")\n",
    "\n",
    "ax.plot(sep, sep * wp,label=\"Alex's mock\")\n",
    "\n",
    "result1 = TwoPointCorrelationFunction('rppi', edges, boxsize=2000, position_type = 'xyz', los='x', data_positions1=pos_arr_jp, engine='corrfunc', nthreads=4)\n",
    "sep1, wp1 = result1(pimax=None, return_sep=True)\n",
    "\n",
    "ax.plot(sep1, sep1 * wp1, ls='-.', label=\"Jade's mock\")\n",
    "\n",
    "plt.legend()\n",
    "plt.show()"
   ]
  },
  {
   "cell_type": "code",
   "execution_count": null,
   "id": "321ac023-d93c-4ad8-a0a8-541a32e4ae29",
   "metadata": {},
   "outputs": [],
   "source": [
    "plt.figure()\n",
    "plt.grid()\n",
    "plt.xscale('log')\n",
    "plt.scatter(sep,wp/wp1)\n",
    "plt.ylabel(r'w$_p^{\\rm Alex}$ / w$_p^{\\rm Jade}$')\n",
    "plt.xlabel(r'$r_{p}$')\n",
    "plt.show()"
   ]
  },
  {
   "cell_type": "markdown",
   "id": "f47d2f66-764d-4fdb-a997-6a53ff635f52",
   "metadata": {},
   "source": [
    "## Test with best-fitting HOD for ph000 and ph006 mocks"
   ]
  },
  {
   "cell_type": "code",
   "execution_count": null,
   "id": "ea697c3b-41a4-453e-83af-76222dd83705",
   "metadata": {
    "tags": []
   },
   "outputs": [],
   "source": [
    "wp_hod = np.loadtxt('diff_start_low_prior_1_CF_wsys.txt')\n",
    "box_file2 = '/pscratch/sd/j/jpiat/Abacus_mocks/z0.200/AbacusSummit_base_c000_ph006/cubic_box/BGS_box_S.fits'\n",
    "\n",
    "box_cat2 = fits.open(box_file2)\n",
    "box2 = Table(box_cat[1].data)\n",
    "box_cat2.close()\n",
    "\n",
    "z = 0.2\n",
    "a = 1/(1+z)\n",
    "H = cosmo.H(z)\n",
    "h = cosmo.H(0)/100\n",
    "\n",
    "box2['x_rsd'] = box2['x'] + box2['vx']/(a*H/h)\n",
    "pos2 = box2['x_rsd','y','z']\n",
    "\n",
    "M2 = box2['R_MAG_ABS']\n",
    "\n",
    "posM1 = pos_jp[M_jp<=-20]\n",
    "pos_arr1 = np.array([posM1['x_rsd'],posM1['y'],posM1['z']])\n",
    "\n",
    "posM2 = pos2[M2<=-20]\n",
    "pos_arr2 = np.array([posM2['x_rsd'],posM2['y'],posM2['z']])\n",
    "\n",
    "edges = (np.logspace(-2, 2, 25), np.linspace(-80, 80, 161))\n",
    "result1 = TwoPointCorrelationFunction('rppi', edges, boxsize=2000, position_type = 'xyz', los='x', data_positions1=pos_arr1, engine='corrfunc', nthreads=4)\n",
    "sep1, wp1 = result1(pimax=None, return_sep=True)\n",
    "\n",
    "edges = (np.logspace(-2, 2, 25), np.linspace(-80, 80, 161))\n",
    "result2 = TwoPointCorrelationFunction('rppi', edges, boxsize=2000, position_type = 'xyz', los='x', data_positions1=pos_arr2, engine='corrfunc', nthreads=4)\n",
    "sep2, wp2 = result2(pimax=None, return_sep=True)"
   ]
  },
  {
   "cell_type": "code",
   "execution_count": null,
   "id": "eff0600e-08ed-4026-ae5b-5b4da4e28654",
   "metadata": {
    "tags": []
   },
   "outputs": [],
   "source": [
    "ax = plt.gca()\n",
    "ax.set_xscale('log')\n",
    "ax.set_title(f'M < -20')\n",
    "ax.set_xlabel(r'$r_{p}$')\n",
    "ax.set_ylabel(r'$r_{p} w_{p}(r_{p})$')\n",
    "ax.grid(True)\n",
    "ax.plot(wp_hod[:,0], wp_hod[:,0] * wp_hod[:,5],'r--',label='best-fitting HOD')\n",
    "ax.plot(sep1, sep1 * wp1, ls='-', label=\"ph000\")\n",
    "ax.plot(sep2, sep2 * wp2, ls='-.', label=\"ph006\")\n",
    "plt.legend()\n",
    "plt.show()"
   ]
  },
  {
   "cell_type": "code",
   "execution_count": null,
   "id": "f69b045d-0727-42e8-a4d1-5c7adfb2e55f",
   "metadata": {
    "tags": []
   },
   "outputs": [],
   "source": [
    "plt.figure()\n",
    "plt.grid()\n",
    "plt.xscale('log')\n",
    "plt.scatter(sep1,wp1/wp2)\n",
    "plt.ylabel(r'w$_p^{\\rm po000}$ / w$_p^{\\rm ph006}$')\n",
    "plt.xlabel(r'$r_{p}$')\n",
    "plt.show()"
   ]
  },
  {
   "cell_type": "markdown",
   "id": "44a72988-5742-4ced-a8d7-2ff4ad039955",
   "metadata": {
    "tags": []
   },
   "source": [
    "## Test with best-fitting HOD and corrected mock"
   ]
  },
  {
   "cell_type": "code",
   "execution_count": null,
   "id": "0562ac96-a911-4100-bef4-d22887ac6171",
   "metadata": {},
   "outputs": [],
   "source": [
    "box_file = '/pscratch/sd/a/amjsmith/AbacusSummit/secondgen_new/z0.200/AbacusSummit_base_c000_ph000/box_conc/BGS_box_new_S.fits'\n",
    "\n",
    "box_cat = fits.open(box_file)\n",
    "box = Table(box_cat[1].data)\n",
    "box_cat.close()\n",
    "\n",
    "z = 0.2\n",
    "a = 1/(1+z)\n",
    "H = cosmo.H(z)\n",
    "h = cosmo.H(0)/100\n",
    "\n",
    "box['x_rsd'] = box['x'] + box['vx']/(a*H/h)\n",
    "pos = box['x_rsd','y','z']\n",
    "\n",
    "M = box['R_MAG_ABS']\n",
    "\n",
    "posM = pos[M<=-20]\n",
    "pos_arr = np.array([posM['x_rsd'],posM['y'],posM['z']])\n",
    "\n",
    "edges = (np.logspace(-2, 2, 25), np.linspace(-80, 80, 161))\n",
    "result = TwoPointCorrelationFunction('rppi', edges, boxsize=2000, position_type = 'xyz', los='x', data_positions1=pos_arr, engine='corrfunc', nthreads=4)\n",
    "sep, wp = result(pimax=None, return_sep=True)"
   ]
  },
  {
   "cell_type": "code",
   "execution_count": null,
   "id": "c9ae438b-1af0-4afc-964b-bf5eb4419305",
   "metadata": {
    "tags": []
   },
   "outputs": [],
   "source": [
    "wp_hod = np.loadtxt('diff_start_low_prior_1_CF_wsys.txt')\n",
    "wp_hod_nosys = np.loadtxt('diff_start_low_prior_1_CF_nowsys.txt')\n",
    "\n",
    "rp_bins = np.logspace(-2, 2, 25)\n",
    "rp = 0.5*(rp_bins[1:]+rp_bins[:-1])\n",
    "\n",
    "ax = plt.gca()\n",
    "ax.set_xscale('log')\n",
    "ax.set_title(f'M < -20')\n",
    "ax.set_xlabel(r'$r_{p}$')\n",
    "ax.set_ylabel(r'$r_{p} w_{p}(r_{p})$')\n",
    "ax.grid(True)\n",
    "ax.plot(wp_hod[:,0], wp_hod[:,0] * wp_hod[:,5],'r--',label='best-fitting HOD wsys')\n",
    "ax.plot(wp_hod_nosys[:,0], wp_hod_nosys[:,0] * wp_hod_nosys[:,5],'g--',label='best-fitting HOD nowsys')\n",
    "ax.plot(rp, rp * wp, ls='-', label=\"ph000\")\n",
    "plt.legend()\n",
    "plt.show()"
   ]
  },
  {
   "cell_type": "markdown",
   "id": "1544e993-30e9-49e8-bf1e-18efab3ef005",
   "metadata": {},
   "source": [
    "## Comparison test for wsys and nowsys"
   ]
  },
  {
   "cell_type": "code",
   "execution_count": 24,
   "id": "d58e205f-1712-4208-bfee-0c709e7a09e5",
   "metadata": {
    "tags": []
   },
   "outputs": [
    {
     "name": "stdout",
     "output_type": "stream",
     "text": [
      "wsys finished\n",
      "nowsys finished\n"
     ]
    }
   ],
   "source": [
    "#file_wsys = '/pscratch/sd/a/amjsmith/AbacusSummit/secondgen_new/z0.200/AbacusSummit_base_c000_ph000/box_conc/BGS_box_new_S.fits'\n",
    "file_wsys = '/pscratch/sd/j/jpiat/Abacus_mocks/z0.200/AbacusSummit_base_c000_ph000/cubic_box/wsys/BGS_box_S.fits'\n",
    "file_nowsys = '/pscratch/sd/j/jpiat/Abacus_mocks/z0.200/AbacusSummit_base_c000_ph000/cubic_box/nowsys/BGS_box_S.fits'\n",
    "\n",
    "cat_wsys = fits.open(file_wsys)\n",
    "box_wsys = Table(cat_wsys[1].data)\n",
    "cat_wsys.close()\n",
    "\n",
    "cat_nowsys = fits.open(file_nowsys)\n",
    "box_nowsys = Table(cat_nowsys[1].data)\n",
    "cat_nowsys.close()\n",
    "\n",
    "M_wsys = box_wsys['R_MAG_ABS']\n",
    "M_nowsys = box_nowsys['R_MAG_ABS']\n",
    "\n",
    "threshold = -21.5\n",
    "\n",
    "z = 0.2\n",
    "a = 1/(1+z)\n",
    "H = cosmo.H(z)\n",
    "h = cosmo.H(0)/100\n",
    "\n",
    "box_wsys['x_rsd'] = box_wsys['x'] + box_wsys['vx']/(a*H/h)\n",
    "pos_wsys = box_wsys['x_rsd','y','z'][M_wsys<=threshold]\n",
    "\n",
    "box_nowsys['x_rsd'] = box_nowsys['x'] + box_nowsys['vx']/(a*H/h)\n",
    "pos_nowsys = box_nowsys['x_rsd','y','z'][M_nowsys<=threshold]\n",
    "\n",
    "pos_wsys_arr = np.array([pos_wsys['x_rsd'],pos_wsys['y'],pos_wsys['z']])\n",
    "pos_nowsys_arr = np.array([pos_nowsys['x_rsd'],pos_nowsys['y'],pos_nowsys['z']])\n",
    "\n",
    "edges = (np.logspace(-2, 2, 25), np.linspace(-80, 80, 161))\n",
    "\n",
    "result = TwoPointCorrelationFunction('rppi', edges, boxsize=2000, position_type = 'xyz', los='x', data_positions1=pos_wsys_arr, engine='corrfunc', nthreads=8)\n",
    "sep, wp_wsys = result(pimax=None, return_sep=True)\n",
    "\n",
    "print('wsys finished')\n",
    "\n",
    "result = TwoPointCorrelationFunction('rppi', edges, boxsize=2000, position_type = 'xyz', los='x', data_positions1=pos_nowsys_arr, engine='corrfunc', nthreads=4)\n",
    "sep, wp_nowsys = result(pimax=None, return_sep=True)\n",
    "\n",
    "print('nowsys finished')"
   ]
  },
  {
   "cell_type": "code",
   "execution_count": 35,
   "id": "dd9ed866-6cb4-4393-87b8-10673bbe54ea",
   "metadata": {
    "tags": []
   },
   "outputs": [
    {
     "data": {
      "image/png": "[encoded data removed]",
      "text/plain": [
       "<Figure size 640x480 with 1 Axes>"
      ]
     },
     "metadata": {},
     "output_type": "display_data"
    }
   ],
   "source": [
    "wp_hod = np.loadtxt('best_fitting_HODs/diff_start_low_prior_1_CF_wsys.txt')        \n",
    "wp_hod_nowsys = np.loadtxt('best_fitting_HODs/diff_start_low_prior_1_CF_nowsys.txt')\n",
    "\n",
    "rp_bins = np.logspace(-2, 2, 25)\n",
    "rp = 0.5*(rp_bins[1:]+rp_bins[:-1])\n",
    "\n",
    "ax = plt.gca()\n",
    "ax.set_xscale('log')\n",
    "ax.set_title(f'M < {threshold}')\n",
    "ax.set_xlabel(r'$r_{p}$')\n",
    "ax.set_ylabel(r'$r_{p} w_{p}(r_{p})$')\n",
    "ax.grid(True)\n",
    "ax.plot(rp, rp * wp_wsys, ls='-', label=\"ph000 // wsys\")\n",
    "ax.plot(rp, rp * wp_nowsys, ls='-', c='g', label=\"ph000 // nowsys\")\n",
    "ax.plot(wp_hod[:,0], rp * wp_hod[:,2],'r--',label='best-fitting HOD wsys')\n",
    "ax.plot(wp_hod[:,0], rp * wp_hod_nowsys[:,2],'--',color='orange',label='best-fitting HOD nowsys')\n",
    "\n",
    "plt.legend()\n",
    "plt.show()"
   ]
  },
  {
   "cell_type": "markdown",
   "id": "76ffb253-0448-4920-88ce-a69a9e5c2cf9",
   "metadata": {},
   "source": [
    "## Test Individual files"
   ]
  },
  {
   "cell_type": "code",
   "execution_count": null,
   "id": "a71deb1e-4a6d-47b5-91ac-fc45a3857b63",
   "metadata": {
    "tags": []
   },
   "outputs": [],
   "source": [
    "def proj_corr_func_ind(box_num):\n",
    "\n",
    "    file = f'/pscratch/sd/j/jpiat/Abacus_mocks/z0.200/AbacusSummit_base_c000_ph000/cubic_box/wsys/BGS_box_S_{box_num:03d}.fits'\n",
    "    \n",
    "    cat = fits.open(file)\n",
    "    box = Table(cat[1].data)\n",
    "    cat.close()\n",
    "    \n",
    "    L = 2000/34\n",
    "    mask = (box['x']>-1000+L*box_num)*(box['x']<-1000+L*(box_num+1))\n",
    "    box = box[mask]\n",
    "    \n",
    "    rand = np.array([np.random.uniform(-1000+L*box_num,-1000+L*(box_num+1),len(box)),\n",
    "                    np.random.uniform(-1000,1000,len(box)),\n",
    "                    np.random.uniform(-1000,1000,len(box))])\n",
    "    \n",
    "    M = box['R_MAG_ABS']\n",
    "    \n",
    "    z = 0.2\n",
    "    a = 1/(1+z)\n",
    "    H = cosmo.H(z)\n",
    "    h = cosmo.H(0)/100\n",
    "    \n",
    "    box['z_rsd'] = box['z'] + box['vz']/(a*H/h)\n",
    "    pos = box['x','y','z_rsd'][M<=-20]\n",
    "    \n",
    "    pos_arr = np.array([pos['x'],pos['y'],pos['z_rsd']])\n",
    "    \n",
    "    edges = (np.logspace(-2, 2, 25), np.linspace(-80, 80, 161))\n",
    "    \n",
    "    result = TwoPointCorrelationFunction('rppi', edges, position_type = 'xyz', los='z', data_positions1=pos_arr, randoms_positions1=rand, engine='corrfunc', nthreads=8)\n",
    "    sep, wp = result(pimax=None, return_sep=True)\n",
    "    \n",
    "    np.savetxt(f'/pscratch/sd/j/jpiat/Abacus_mocks/z0.200/AbacusSummit_base_c000_ph000/cubic_box/wsys/wp/wp_S_{box_num:03d}.dat',wp)\n",
    "    \n",
    "    print(f'box {box_num:1d} done')"
   ]
  },
  {
   "cell_type": "code",
   "execution_count": null,
   "id": "ff59629c-376d-4b87-80b8-4aa307faa15e",
   "metadata": {
    "tags": []
   },
   "outputs": [],
   "source": [
    "for box in range(34):\n",
    "    \n",
    "    proj_corr_func_ind(box)"
   ]
  },
  {
   "cell_type": "code",
   "execution_count": null,
   "id": "6eabd714-e3f9-41e5-8726-17ff6cab5daf",
   "metadata": {
    "tags": []
   },
   "outputs": [],
   "source": [
    "wp_hod = np.loadtxt('/best_fitting_HODs/diff_start_low_prior_1_CF_wsys.txt')        # files were exchanged\n",
    "wp_hod_nowsys = np.loadtxt('/best_fitting_HODs/diff_start_low_prior_1_CF_nowsys.txt')\n",
    "\n",
    "rp_bins = np.logspace(-2, 2, 25)\n",
    "rp = 0.5*(rp_bins[1:]+rp_bins[:-1])\n",
    "\n",
    "ax = plt.gca()\n",
    "ax.set_xscale('log')\n",
    "ax.set_title(f'M < -20')\n",
    "ax.set_xlabel(r'$r_{p}$')\n",
    "ax.set_ylabel(r'$r_{p} w_{p}(r_{p})$')\n",
    "ax.grid(True)\n",
    "\n",
    "\n",
    "for box in range(34):\n",
    "\n",
    "    wp = np.loadtxt(f'/pscratch/sd/j/jpiat/Abacus_mocks/z0.200/AbacusSummit_base_c000_ph000/cubic_box/wsys/wp/wp_S_{box:03d}.dat')\n",
    "    ax.plot(rp, rp * wp, c='c', ls='-', alpha=0.4)\n",
    "\n",
    "ax.plot(wp_hod[:,0], wp_hod[:,0] * wp_hod[:,5],'r--',label='best-fitting HOD wsys')\n",
    "plt.legend()\n",
    "plt.show()"
   ]
  },
  {
   "cell_type": "markdown",
   "id": "80648d25-3b16-4688-af7f-d36b92e74fd3",
   "metadata": {
    "tags": []
   },
   "source": [
    "## Test Cutsky"
   ]
  },
  {
   "cell_type": "code",
   "execution_count": 42,
   "id": "ca145199-4977-4632-9625-3322f342137f",
   "metadata": {
    "tags": []
   },
   "outputs": [],
   "source": [
    "file = '/pscratch/sd/a/amjsmith/AbacusSummit/secondgen_new/z0.200/AbacusSummit_base_c000_ph000/wsys_cutsky/galaxy_cut_sky_S.fits'\n",
    "\n",
    "cat = fits.open(file)\n",
    "box = Table(cat[1].data)\n",
    "cat.close()\n",
    "\n",
    "threshold = -21.5\n",
    "\n",
    "M = box['R_MAG_ABS']\n",
    "\n",
    "mask = (M<=threshold)*(box['RA']>=0)\n",
    "pos = box['RA','DEC','Z'][mask]\n",
    "pos_data = np.array([pos['RA'],pos['DEC'],cosmo.comoving_distance(pos['Z'])])"
   ]
  },
  {
   "cell_type": "code",
   "execution_count": 44,
   "id": "ea218332-fad2-451a-b306-dd72569ca9af",
   "metadata": {
    "tags": []
   },
   "outputs": [],
   "source": [
    "## randoms\n",
    "\n",
    "from scipy.interpolate import interp1d\n",
    "from scipy.integrate import trapezoid\n",
    "from scipy.integrate import cumulative_trapezoid\n",
    "\n",
    "RA_rand = np.random.uniform(0,360,len(box)*10)\n",
    "DEC_rand = np.degrees(np.arcsin(np.random.uniform(-1,1,len(box)*10)))\n",
    "\n",
    "def random_dist(data,xmin,xmax,dx,N):\n",
    "    \n",
    "    bins = np.arange(xmin,xmax+dx,dx)\n",
    "    x = bins[:-1]+dx/2\n",
    "    n,_ = np.histogram(data,bins=bins)\n",
    "    \n",
    "    n_interp = interp1d(x,n,fill_value='extrapolate')\n",
    "    pdf = n_interp(bins)\n",
    "    \n",
    "    cdf = cumulative_trapezoid(pdf,bins,initial=0)\n",
    "    cdf = cdf/trapezoid(pdf,bins)\n",
    "    cdf_inv = interp1d(cdf,bins)\n",
    " \n",
    "    r = np.random.uniform(0,1,N)\n",
    "    x_rand = cdf_inv(r)\n",
    "    \n",
    "    return x_rand\n",
    "\n",
    "z_rand = random_dist(box['Z'],0,0.6,0.01,len(box)*10)\n",
    "M_rand = random_dist(box['R_MAG_ABS'],-24,-10,0.1,len(box)*10)\n",
    "\n",
    "mask_rand = M_rand<=threshold\n",
    "pos_rand = np.array([RA_rand[mask_rand],DEC_rand[mask_rand],cosmo.comoving_distance(z_rand[mask_rand])])"
   ]
  },
  {
   "cell_type": "code",
   "execution_count": null,
   "id": "ea77b691-ab30-4e54-afdb-170e8d6a693c",
   "metadata": {},
   "outputs": [],
   "source": [
    "edges = (np.logspace(-2, 2, 25), np.linspace(-80, 80, 161))\n",
    "result = TwoPointCorrelationFunction('rppi', edges, position_type = 'rdd', data_positions1=pos_data, randoms_positions1=pos_rand, engine='corrfunc', nthreads=8)\n",
    "sep, wp_wsys = result(pimax=None, return_sep=True)"
   ]
  },
  {
   "cell_type": "code",
   "execution_count": null,
   "id": "1f29aa78-4905-4f2c-a3f9-dd85ebcff3c8",
   "metadata": {},
   "outputs": [],
   "source": []
  },
  {
   "cell_type": "code",
   "execution_count": 39,
   "id": "6878ef0d-2dad-4403-a072-455664e39bed",
   "metadata": {
    "tags": []
   },
   "outputs": [
    {
     "data": {
      "text/plain": [
       "<matplotlib.legend.Legend at 0x7f1828422d70>"
      ]
     },
     "execution_count": 39,
     "metadata": {},
     "output_type": "execute_result"
    },
    {
     "data": {
      "image/png": "[encoded data removed]",
      "text/plain": [
       "<Figure size 640x480 with 1 Axes>"
      ]
     },
     "metadata": {},
     "output_type": "display_data"
    },
    {
     "data": {
      "image/png": "[encoded data removed]",
      "text/plain": [
       "<Figure size 640x480 with 1 Axes>"
      ]
     },
     "metadata": {},
     "output_type": "display_data"
    }
   ],
   "source": [
    "dz=0.01\n",
    "zbins = np.arange(0,0.6+dz,dz)\n",
    "zb = zbins[:-1]+dz/2\n",
    "\n",
    "n_rand,_ = np.histogram(z_rand,bins=zbins,density=True)\n",
    "n,_ = np.histogram(box['Z'],bins=zbins,density=True)\n",
    "\n",
    "plt.figure()\n",
    "plt.plot(zb,n_rand,label='random')\n",
    "plt.plot(zb,n,'--',label='mock')\n",
    "plt.xlabel('z')\n",
    "plt.ylabel('pdf')\n",
    "plt.legend()\n",
    "\n",
    "\n",
    "dM=0.02\n",
    "Mbins = np.arange(-24,-10+dM,0.2)\n",
    "Mb = Mbins[:-1]+dM/2\n",
    "\n",
    "n_rand,_ = np.histogram(M_rand,bins=Mbins,density=True)\n",
    "n,_ = np.histogram(box['R_MAG_ABS'],bins=Mbins,density=True)\n",
    "\n",
    "plt.figure()\n",
    "plt.plot(Mb,n_rand,label='random')\n",
    "plt.plot(Mb,n,'--',label='mock')\n",
    "plt.xlabel('M')\n",
    "plt.ylabel('pdf')\n",
    "plt.legend()"
   ]
  },
  {
   "cell_type": "code",
   "execution_count": null,
   "id": "378f8b88-0f4f-4b98-a2c7-aeadae4534ac",
   "metadata": {},
   "outputs": [],
   "source": []
  },
  {
   "cell_type": "markdown",
   "id": "d7261af1-6b16-4194-859c-e730fc70a376",
   "metadata": {},
   "source": [
    "## Test magnitude correction for previous 2nd gen mocks "
   ]
  },
  {
   "cell_type": "code",
   "execution_count": null,
   "id": "3b5aa604-18a1-4760-80ed-7aa06bdbcabc",
   "metadata": {
    "tags": []
   },
   "outputs": [],
   "source": [
    "path_in = '/global/cfs/cdirs/desi/cosmosim/SecondGenMocks/AbacusSummit/CutSky/BGS/v0.1/z0.200/'\n",
    "file_cutsky = path_in+'cutsky_BGS_z0.200_AbacusSummit_base_c000_ph006.fits'\n",
    "\n",
    "sky = fits.open(file_cutsky)\n",
    "data = sky[1].data\n",
    "sky.close()\n",
    "\n",
    "z = data['Z']\n",
    "m = data['R_MAG_APP']\n",
    "M = data['R_MAG_ABS']\n",
    "col = data['G_R_REST']\n",
    "\n",
    "hm, bm = np.histogram(m, 50)\n",
    "m_eff = 0.5*(bm[1:]+bm[:-1])\n",
    "\n",
    "D_L = (1.+z) * cosmo.comoving_distance(z)"
   ]
  },
  {
   "cell_type": "code",
   "execution_count": null,
   "id": "e0b9938a-b494-48bc-ba68-0c1360434f85",
   "metadata": {
    "tags": []
   },
   "outputs": [],
   "source": [
    "E = 0.8 * (z - 0.1)\n",
    "m_test = M - E + 5*np.log10(D_L) + 25 + kcorr.k(z,col)\n",
    "\n",
    "hm_test, bm_test = np.histogram(m_test, 50)\n",
    "m_eff_test = 0.5*(bm_test[1:]+bm_test[:-1])"
   ]
  },
  {
   "cell_type": "code",
   "execution_count": null,
   "id": "50a05207-e33b-4739-b144-f379dad86b68",
   "metadata": {
    "tags": []
   },
   "outputs": [],
   "source": [
    "plt.figure()\n",
    "plt.xlabel('m')\n",
    "plt.ylabel('N(m)')\n",
    "plt.plot(m_eff, hm, label='R_MAG_APP')\n",
    "plt.plot(m_eff_test, hm_test, label='Q=0.8')\n",
    "plt.legend()"
   ]
  },
  {
   "cell_type": "code",
   "execution_count": null,
   "id": "ce33ce55-17ad-4473-aefb-9d10f2640537",
   "metadata": {},
   "outputs": [],
   "source": []
  },
  {
   "cell_type": "code",
   "execution_count": null,
   "id": "9b3ee216-5b96-4796-bc1d-f94b8a7f27cf",
   "metadata": {
    "tags": []
   },
   "outputs": [],
   "source": []
  },
  {
   "cell_type": "code",
   "execution_count": null,
   "id": "409a0b52-107b-496a-a354-5c98a9b6dfa9",
   "metadata": {},
   "outputs": [],
   "source": []
  }
 ],
 "metadata": {
  "kernelspec": {
   "display_name": "cosmodesi-main",
   "language": "python",
   "name": "cosmodesi-main"
  },
  "language_info": {
   "codemirror_mode": {
    "name": "ipython",
    "version": 3
   },
   "file_extension": ".py",
   "mimetype": "text/x-python",
   "name": "python",
   "nbconvert_exporter": "python",
   "pygments_lexer": "ipython3",
   "version": "3.10.13"
  }
 },
 "nbformat": 4,
 "nbformat_minor": 5
}
